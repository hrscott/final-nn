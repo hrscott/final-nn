{
 "cells": [
  {
   "attachments": {},
   "cell_type": "markdown",
   "metadata": {},
   "source": [
    "## importing module and libraries needed"
   ]
  },
  {
   "cell_type": "code",
   "execution_count": 1,
   "metadata": {},
   "outputs": [],
   "source": [
    "import numpy as np\n",
    "import matplotlib as plt\n",
    "from nn import io, preprocess, nn"
   ]
  },
  {
   "attachments": {},
   "cell_type": "markdown",
   "metadata": {},
   "source": [
    "## Reading in both positive and negative classes of data"
   ]
  },
  {
   "cell_type": "code",
   "execution_count": 2,
   "metadata": {},
   "outputs": [
    {
     "name": "stdout",
     "output_type": "stream",
     "text": [
      "Number of sequences read from data/rap1-lieb-positives.txt: 137\n",
      "Number of sequences read from data/yeast-upstream-1k-negative.fa: 3163\n"
     ]
    }
   ],
   "source": [
    "from nn import io\n",
    "\n",
    "# reading in positive sequences\n",
    "positive = 'data/rap1-lieb-positives.txt'\n",
    "pos_seqs = io.read_text_file(positive)\n",
    "\n",
    "# Print the number of sequences in pos_seqs\n",
    "print(f\"Number of sequences read from {positive}: {len(pos_seqs)}\")\n",
    "\n",
    "\n",
    "# reading in the negative sequences\n",
    "negative = 'data/yeast-upstream-1k-negative.fa'\n",
    "neg_seqs = io.read_fasta_file(negative)\n",
    "\n",
    "# Print the number of sequences read\n",
    "print(f\"Number of sequences read from {negative}: {len(neg_seqs)}\")"
   ]
  },
  {
   "attachments": {},
   "cell_type": "markdown",
   "metadata": {},
   "source": [
    "## Processing negative sequences to have same length as positive sequences (note additional function added in preprocess.py)"
   ]
  },
  {
   "cell_type": "code",
   "execution_count": 8,
   "metadata": {},
   "outputs": [
    {
     "name": "stdout",
     "output_type": "stream",
     "text": [
      "3109689\n"
     ]
    }
   ],
   "source": [
    "# Process negative examples to the same length as positive examples\n",
    "pos_seq_length = len(pos_seqs[0])\n",
    "negative_examples = preprocess.process_negative_sequences(neg_seqs, pos_seq_length)\n",
    "\n",
    "print(len(negative_examples))"
   ]
  },
  {
   "attachments": {},
   "cell_type": "markdown",
   "metadata": {},
   "source": [
    "## Combining positive and negative examples"
   ]
  },
  {
   "cell_type": "code",
   "execution_count": 9,
   "metadata": {},
   "outputs": [],
   "source": [
    "# Combine positive and negative examples\n",
    "sequences = pos_seqs + negative_examples\n",
    "labels = [True] * len(pos_seqs) + [False] * len(negative_examples)"
   ]
  },
  {
   "attachments": {},
   "cell_type": "markdown",
   "metadata": {},
   "source": [
    "## Balancing Sequences using the sample_seqs function\n",
    "This sampling scheme ensures that both classes have an equal number of samples, which helps to prevent the model from being biased towards the majority class.\n"
   ]
  },
  {
   "cell_type": "code",
   "execution_count": 12,
   "metadata": {},
   "outputs": [],
   "source": [
    "all_seqs = pos_seqs + negative_examples\n",
    "all_labels = [True] * len(pos_seqs) + [False] * len(negative_examples)\n",
    "sampled_seqs, sampled_labels = preprocess.sample_seqs(all_seqs, all_labels)"
   ]
  },
  {
   "attachments": {},
   "cell_type": "markdown",
   "metadata": {},
   "source": [
    "## one-hot encoding sequences"
   ]
  },
  {
   "cell_type": "code",
   "execution_count": 13,
   "metadata": {},
   "outputs": [],
   "source": [
    "X = preprocess.one_hot_encode_seqs(sampled_seqs)\n",
    "y = np.array(sampled_labels, dtype=int)"
   ]
  },
  {
   "attachments": {},
   "cell_type": "markdown",
   "metadata": {},
   "source": [
    "## splitting the data into training and validation sets"
   ]
  },
  {
   "cell_type": "code",
   "execution_count": 14,
   "metadata": {},
   "outputs": [],
   "source": [
    "X_train, X_val, y_train, y_val = preprocess.train_test_split_custom(X, y, test_size=0.2, random_state=42)"
   ]
  },
  {
   "attachments": {},
   "cell_type": "markdown",
   "metadata": {},
   "source": [
    "# defining nn architecture creating an instance of the NeuralNetwork class"
   ]
  },
  {
   "cell_type": "code",
   "execution_count": 15,
   "metadata": {},
   "outputs": [],
   "source": [
    "# Define the neural network architecture\n",
    "nn_arch = [\n",
    "    {\"input_dim\": 4 * pos_seq_length, \"output_dim\": 32, \"activation\": \"relu\"},\n",
    "    {\"input_dim\": 32, \"output_dim\": 1, \"activation\": \"sigmoid\"}\n",
    "]\n",
    "\n",
    "# Hyperparameters\n",
    "lr = 0.01\n",
    "seed = 42\n",
    "batch_size = 32\n",
    "epochs = 100\n",
    "loss_function = \"binary_crossentropy\"\n",
    "\n",
    "# Create NeuralNetwork instance\n",
    "nn = nn.NeuralNetwork(nn_arch, lr, seed, batch_size, epochs, loss_function)"
   ]
  },
  {
   "attachments": {},
   "cell_type": "markdown",
   "metadata": {},
   "source": [
    "## Training the model"
   ]
  },
  {
   "cell_type": "code",
   "execution_count": 16,
   "metadata": {},
   "outputs": [
    {
     "ename": "AssertionError",
     "evalue": "",
     "output_type": "error",
     "traceback": [
      "\u001b[0;31m---------------------------------------------------------------------------\u001b[0m",
      "\u001b[0;31mAssertionError\u001b[0m                            Traceback (most recent call last)",
      "\u001b[1;32m/Users/henryrscott/Desktop/Algos/final/final-nn/classifier.ipynb Cell 18\u001b[0m in \u001b[0;36m<cell line: 2>\u001b[0;34m()\u001b[0m\n\u001b[1;32m      <a href='vscode-notebook-cell:/Users/henryrscott/Desktop/Algos/final/final-nn/classifier.ipynb#X23sZmlsZQ%3D%3D?line=0'>1</a>\u001b[0m \u001b[39m# Train the neural network\u001b[39;00m\n\u001b[0;32m----> <a href='vscode-notebook-cell:/Users/henryrscott/Desktop/Algos/final/final-nn/classifier.ipynb#X23sZmlsZQ%3D%3D?line=1'>2</a>\u001b[0m train_loss, val_loss \u001b[39m=\u001b[39m nn\u001b[39m.\u001b[39;49mfit(X_train, y_train, X_val, y_val)\n",
      "File \u001b[0;32m~/Desktop/Algos/final/final-nn/nn/nn.py:218\u001b[0m, in \u001b[0;36mNeuralNetwork.fit\u001b[0;34m(self, X_train, y_train, X_val, y_val)\u001b[0m\n\u001b[1;32m    215\u001b[0m val_loss_history \u001b[39m=\u001b[39m []\n\u001b[1;32m    217\u001b[0m \u001b[39mfor\u001b[39;00m _ \u001b[39min\u001b[39;00m \u001b[39mrange\u001b[39m(\u001b[39mself\u001b[39m\u001b[39m.\u001b[39m_epochs):\n\u001b[0;32m--> 218\u001b[0m     mini_batches \u001b[39m=\u001b[39m \u001b[39mself\u001b[39;49m\u001b[39m.\u001b[39;49m_get_mini_batches(X_train, y_train)\n\u001b[1;32m    220\u001b[0m     \u001b[39mfor\u001b[39;00m X_mini_batch, y_mini_batch \u001b[39min\u001b[39;00m mini_batches:\n\u001b[1;32m    221\u001b[0m         X_mini_batch \u001b[39m=\u001b[39m X_mini_batch\u001b[39m.\u001b[39mT\n",
      "File \u001b[0;32m~/Desktop/Algos/final/final-nn/nn/nn.py:248\u001b[0m, in \u001b[0;36mNeuralNetwork._get_mini_batches\u001b[0;34m(self, X, y)\u001b[0m\n\u001b[1;32m    244\u001b[0m \u001b[39mdef\u001b[39;00m \u001b[39m_get_mini_batches\u001b[39m(\u001b[39mself\u001b[39m, X, y):\n\u001b[1;32m    245\u001b[0m     \u001b[39m\"\"\"\u001b[39;00m\n\u001b[1;32m    246\u001b[0m \u001b[39m#    Generate mini-batches from the input data X and target data y.\u001b[39;00m\n\u001b[1;32m    247\u001b[0m \u001b[39m#     \"\"\"\u001b[39;00m\n\u001b[0;32m--> 248\u001b[0m     \u001b[39massert\u001b[39;00m X\u001b[39m.\u001b[39mshape[\u001b[39m0\u001b[39m] \u001b[39m==\u001b[39m y\u001b[39m.\u001b[39mshape[\u001b[39m0\u001b[39m]\n\u001b[1;32m    249\u001b[0m     indices \u001b[39m=\u001b[39m np\u001b[39m.\u001b[39marange(X\u001b[39m.\u001b[39mshape[\u001b[39m0\u001b[39m])\n\u001b[1;32m    250\u001b[0m     np\u001b[39m.\u001b[39mrandom\u001b[39m.\u001b[39mshuffle(indices)\n",
      "\u001b[0;31mAssertionError\u001b[0m: "
     ]
    }
   ],
   "source": [
    "# Train the neural network\n",
    "train_loss, val_loss = nn.fit(X_train, y_train, X_val, y_val)"
   ]
  },
  {
   "attachments": {},
   "cell_type": "markdown",
   "metadata": {},
   "source": [
    "## Plot training and validation loss by epoch"
   ]
  },
  {
   "cell_type": "code",
   "execution_count": null,
   "metadata": {},
   "outputs": [],
   "source": [
    "# Plot training and validation loss by epoch\n",
    "plt.plot(train_loss, label=\"Training Loss\")\n",
    "plt.plot(val_loss, label=\"Validation Loss\")\n",
    "plt.xlabel(\"Epoch\")\n",
    "plt.ylabel(\"Loss\")\n",
    "plt.legend()\n",
    "plt.show()"
   ]
  },
  {
   "attachments": {},
   "cell_type": "markdown",
   "metadata": {},
   "source": [
    "## Report the accuracy on the validation dataset"
   ]
  },
  {
   "cell_type": "code",
   "execution_count": null,
   "metadata": {},
   "outputs": [
    {
     "name": "stdout",
     "output_type": "stream",
     "text": [
      "Accuracy on the validation dataset: 0.5781818181818181\n"
     ]
    }
   ],
   "source": [
    "y_val_pred = (nn.predict(X_val) > 0.5).astype(int)\n",
    "accuracy = np.mean(y_val_pred == y_val)\n",
    "print(\"Accuracy on the validation dataset:\", accuracy)"
   ]
  },
  {
   "attachments": {},
   "cell_type": "markdown",
   "metadata": {},
   "source": [
    "## Explain your choice of loss function and hyperparameters:\n",
    " The loss function used is binary_crossentropy, which is suitable for binary classification problems.It measures the dissimilarity between the predicted probabilities and the true labels.\n",
    " The learning rate is set to 0.01, which is a common choice to balance convergence speed and stability.\n",
    " The number of epochs is set to 100, which should provide sufficient training without overfitting.\n",
    " The batch size is set to 32, which is a common choice to balance training speed and model performance."
   ]
  }
 ],
 "metadata": {
  "kernelspec": {
   "display_name": "base",
   "language": "python",
   "name": "python3"
  },
  "language_info": {
   "codemirror_mode": {
    "name": "ipython",
    "version": 3
   },
   "file_extension": ".py",
   "mimetype": "text/x-python",
   "name": "python",
   "nbconvert_exporter": "python",
   "pygments_lexer": "ipython3",
   "version": "3.10.9"
  },
  "orig_nbformat": 4
 },
 "nbformat": 4,
 "nbformat_minor": 2
}
